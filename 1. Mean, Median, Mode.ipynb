{
 "cells": [
  {
   "cell_type": "markdown",
   "id": "2eb2b272-c5b3-4bce-92f3-39b55a368097",
   "metadata": {},
   "source": [
    "# Mean"
   ]
  },
  {
   "cell_type": "markdown",
   "id": "d0abc4fc-7103-41d1-b440-3bf59a5da79c",
   "metadata": {},
   "source": [
    "### method 1 - Manual Calculation"
   ]
  },
  {
   "cell_type": "code",
   "execution_count": 1,
   "id": "8b67316d-132b-4f22-b97e-94d817861d30",
   "metadata": {},
   "outputs": [
    {
     "name": "stdout",
     "output_type": "stream",
     "text": [
      "Population mean is:  160.0\n",
      "Sample mean is:  161.66666666666666\n"
     ]
    }
   ],
   "source": [
    "population = [150,160,170,165,155]\n",
    "sample = [150,170,165]\n",
    "\n",
    "pop_mean = sum(population)/len(population)\n",
    "sample_mean = sum(sample)/len(sample)\n",
    "\n",
    "print(\"Population mean is: \", pop_mean)\n",
    "print(\"Sample mean is: \", sample_mean)"
   ]
  },
  {
   "cell_type": "markdown",
   "id": "a10a98ed-04d3-44e5-8141-71cfea5d8806",
   "metadata": {},
   "source": [
    "### method 2 - using Numpy"
   ]
  },
  {
   "cell_type": "code",
   "execution_count": 2,
   "id": "78f7abbd-9398-4288-be44-60cae5f97eb1",
   "metadata": {},
   "outputs": [
    {
     "name": "stdout",
     "output_type": "stream",
     "text": [
      "The mean is:  86.6\n"
     ]
    }
   ],
   "source": [
    "import numpy as np\n",
    "\n",
    "data = [85,90,78,92,88]\n",
    "\n",
    "arithmetic_mean = np.mean(data)\n",
    "\n",
    "print(\"The mean is: \", arithmetic_mean)"
   ]
  },
  {
   "cell_type": "markdown",
   "id": "eeacb8ba-ab9c-47a3-9bae-c75dc869584e",
   "metadata": {},
   "source": [
    "### mehod 3 - using Statistics"
   ]
  },
  {
   "cell_type": "code",
   "execution_count": 3,
   "id": "d720b5a4-576b-4f43-9fc7-d308d524d24f",
   "metadata": {},
   "outputs": [
    {
     "name": "stdout",
     "output_type": "stream",
     "text": [
      "The mean is:  30\n"
     ]
    }
   ],
   "source": [
    "import statistics as stats\n",
    "\n",
    "var = [10,20,30,40,50]\n",
    "\n",
    "mean_stats = stats.mean(var)\n",
    "\n",
    "print(\"The mean is: \", mean_stats)"
   ]
  },
  {
   "cell_type": "markdown",
   "id": "ba883d4d-ae33-4339-a107-ef66f14a9f40",
   "metadata": {},
   "source": [
    "### method 4 - from Dataset"
   ]
  },
  {
   "cell_type": "code",
   "execution_count": 7,
   "id": "b62618ad-39c2-40bc-bbf1-0a22a3b28927",
   "metadata": {},
   "outputs": [
    {
     "data": {
      "text/html": [
       "<div>\n",
       "<style scoped>\n",
       "    .dataframe tbody tr th:only-of-type {\n",
       "        vertical-align: middle;\n",
       "    }\n",
       "\n",
       "    .dataframe tbody tr th {\n",
       "        vertical-align: top;\n",
       "    }\n",
       "\n",
       "    .dataframe thead th {\n",
       "        text-align: right;\n",
       "    }\n",
       "</style>\n",
       "<table border=\"1\" class=\"dataframe\">\n",
       "  <thead>\n",
       "    <tr style=\"text-align: right;\">\n",
       "      <th></th>\n",
       "      <th>sepal_length</th>\n",
       "      <th>sepal_width</th>\n",
       "      <th>petal_length</th>\n",
       "      <th>petal_width</th>\n",
       "      <th>species</th>\n",
       "    </tr>\n",
       "  </thead>\n",
       "  <tbody>\n",
       "    <tr>\n",
       "      <th>0</th>\n",
       "      <td>5.1</td>\n",
       "      <td>3.5</td>\n",
       "      <td>1.4</td>\n",
       "      <td>0.2</td>\n",
       "      <td>setosa</td>\n",
       "    </tr>\n",
       "    <tr>\n",
       "      <th>1</th>\n",
       "      <td>4.9</td>\n",
       "      <td>3.0</td>\n",
       "      <td>1.4</td>\n",
       "      <td>0.2</td>\n",
       "      <td>setosa</td>\n",
       "    </tr>\n",
       "    <tr>\n",
       "      <th>2</th>\n",
       "      <td>4.7</td>\n",
       "      <td>3.2</td>\n",
       "      <td>1.3</td>\n",
       "      <td>0.2</td>\n",
       "      <td>setosa</td>\n",
       "    </tr>\n",
       "    <tr>\n",
       "      <th>3</th>\n",
       "      <td>4.6</td>\n",
       "      <td>3.1</td>\n",
       "      <td>1.5</td>\n",
       "      <td>0.2</td>\n",
       "      <td>setosa</td>\n",
       "    </tr>\n",
       "    <tr>\n",
       "      <th>4</th>\n",
       "      <td>5.0</td>\n",
       "      <td>3.6</td>\n",
       "      <td>1.4</td>\n",
       "      <td>0.2</td>\n",
       "      <td>setosa</td>\n",
       "    </tr>\n",
       "  </tbody>\n",
       "</table>\n",
       "</div>"
      ],
      "text/plain": [
       "   sepal_length  sepal_width  petal_length  petal_width species\n",
       "0           5.1          3.5           1.4          0.2  setosa\n",
       "1           4.9          3.0           1.4          0.2  setosa\n",
       "2           4.7          3.2           1.3          0.2  setosa\n",
       "3           4.6          3.1           1.5          0.2  setosa\n",
       "4           5.0          3.6           1.4          0.2  setosa"
      ]
     },
     "execution_count": 7,
     "metadata": {},
     "output_type": "execute_result"
    }
   ],
   "source": [
    "import seaborn  as sns   # seaborn already has a dataset.\n",
    "import numpy as np\n",
    "\n",
    "iris = sns.load_dataset('iris')\n",
    "iris.head(5)"
   ]
  },
  {
   "cell_type": "code",
   "execution_count": 8,
   "id": "7a801571-8647-4ad2-871d-f698b3145c6c",
   "metadata": {},
   "outputs": [
    {
     "name": "stdout",
     "output_type": "stream",
     "text": [
      "The mean of sepal length is:  5.843333333333334\n"
     ]
    }
   ],
   "source": [
    "# Calculate mean of Sepal_length\n",
    "meann_sepal_lenght = np.mean(iris['sepal_length'])\n",
    "print(\"The mean of sepal length is: \", meann_sepal_lenght)"
   ]
  },
  {
   "cell_type": "code",
   "execution_count": null,
   "id": "88a46a70-e9b6-4e0c-b2e7-536e67b51f1d",
   "metadata": {},
   "outputs": [],
   "source": []
  },
  {
   "cell_type": "markdown",
   "id": "5d7697f4-9ca0-4112-87e6-57e4d7f8b206",
   "metadata": {},
   "source": [
    "# Median"
   ]
  },
  {
   "cell_type": "markdown",
   "id": "48c8eb37-64fb-4e47-90e1-16fc05db0171",
   "metadata": {},
   "source": [
    "### method 1 - using Numpy"
   ]
  },
  {
   "cell_type": "code",
   "execution_count": 11,
   "id": "4aef58c8-0051-468c-884a-300d46d9c341",
   "metadata": {},
   "outputs": [
    {
     "name": "stdout",
     "output_type": "stream",
     "text": [
      "The median is:  25.0\n"
     ]
    }
   ],
   "source": [
    "data = [20,22,24,26,28,100]\n",
    "\n",
    "median = np.median(data)\n",
    "print(\"The median is: \", median)"
   ]
  },
  {
   "cell_type": "markdown",
   "id": "8dae9db3-f631-4800-a4bf-5408a38865df",
   "metadata": {},
   "source": [
    "### method 2 - Statistics"
   ]
  },
  {
   "cell_type": "code",
   "execution_count": 12,
   "id": "3ade2da4-9b7f-46ca-99ca-6fa9365f2a0b",
   "metadata": {},
   "outputs": [
    {
     "name": "stdout",
     "output_type": "stream",
     "text": [
      "46.0\n"
     ]
    }
   ],
   "source": [
    "import statistics as stats\n",
    "\n",
    "data = [1,41,54,5,51,56]\n",
    "median = stats.median(data)\n",
    "print(median)"
   ]
  },
  {
   "cell_type": "markdown",
   "id": "e438ca2c-8f37-48cc-8db1-2c265fb9c536",
   "metadata": {},
   "source": [
    "### method 3 - Pandas"
   ]
  },
  {
   "cell_type": "code",
   "execution_count": 14,
   "id": "8206c205-26cf-4810-9080-22cd90cacf3c",
   "metadata": {},
   "outputs": [
    {
     "name": "stdout",
     "output_type": "stream",
     "text": [
      "   values\n",
      "0      20\n",
      "1      22\n",
      "2      24\n",
      "3      26\n",
      "4      28\n",
      "5     100\n",
      "The median of the data is:  25.0\n"
     ]
    }
   ],
   "source": [
    "import pandas as pd\n",
    "\n",
    "df = pd.DataFrame({\n",
    "    'values': [20,22,24,26,28,100]\n",
    "})\n",
    "print(df)\n",
    "\n",
    "median_pandas = df['values'].median()\n",
    "print('The median of the data is: ', median_pandas)"
   ]
  },
  {
   "cell_type": "markdown",
   "id": "5290cb4c-1d97-4172-ba27-6aac167e6127",
   "metadata": {},
   "source": [
    "### method 4 - from Dataset"
   ]
  },
  {
   "cell_type": "code",
   "execution_count": 15,
   "id": "6ea7bbb2-b402-4eb7-8d91-949f763dd567",
   "metadata": {},
   "outputs": [
    {
     "name": "stdout",
     "output_type": "stream",
     "text": [
      "The median of the  dataset is:  5.8\n"
     ]
    }
   ],
   "source": [
    "import seaborn  as sns   # seaborn already has a dataset.\n",
    "import numpy as np\n",
    "\n",
    "iris = sns.load_dataset('iris')\n",
    "\n",
    "median = np.median(iris['sepal_length'])\n",
    "print(\"The median of the  dataset is: \", median)"
   ]
  },
  {
   "cell_type": "code",
   "execution_count": null,
   "id": "be335bfc-0ff7-46cc-aaf0-e5340a845637",
   "metadata": {},
   "outputs": [],
   "source": []
  },
  {
   "cell_type": "markdown",
   "id": "e84a0fb9-9d25-4545-9403-de39882bd3b0",
   "metadata": {},
   "source": [
    "# Mode"
   ]
  },
  {
   "cell_type": "markdown",
   "id": "d530b7c0-143c-4d3c-b1c7-3d03e37fe8db",
   "metadata": {},
   "source": [
    "### method 1 - Statistics"
   ]
  },
  {
   "cell_type": "code",
   "execution_count": 17,
   "id": "05705536-c300-40b9-b493-22cf62f23c2f",
   "metadata": {},
   "outputs": [
    {
     "name": "stdout",
     "output_type": "stream",
     "text": [
      "the mode is:  85\n"
     ]
    }
   ],
   "source": [
    "import statistics as stats\n",
    "\n",
    "data = [85,90,90,95,85,85,96,80]\n",
    "\n",
    "mode = stats.mode(data)\n",
    "print('the mode is: ', mode)"
   ]
  },
  {
   "cell_type": "code",
   "execution_count": 22,
   "id": "d20e0098-d637-4600-a407-80bcbf29f21e",
   "metadata": {},
   "outputs": [
    {
     "name": "stdout",
     "output_type": "stream",
     "text": [
      "the mode is:  85\n"
     ]
    }
   ],
   "source": [
    "import statistics as stats\n",
    "\n",
    "data = [85,90,90,95,85,85,96,80,90]   # stats method only shows the first Mode( where as here mode is both 85 & 90)\n",
    "\n",
    "mode = stats.mode(data)\n",
    "print('the mode is: ', mode)"
   ]
  },
  {
   "cell_type": "code",
   "execution_count": 23,
   "id": "07da8e46-24d2-45d0-9bee-0a89ee04ddc7",
   "metadata": {},
   "outputs": [
    {
     "name": "stdout",
     "output_type": "stream",
     "text": [
      "the mode is:  [85, 90]\n"
     ]
    }
   ],
   "source": [
    "import statistics as stats\n",
    "\n",
    "data = [85,90,90,95,85,85,96,80,90]\n",
    "\n",
    "mode = stats.multimode(data)   # multimode shows multiple modes\n",
    "print('the mode is: ', mode)"
   ]
  },
  {
   "cell_type": "markdown",
   "id": "c6f8dac0-ce73-4d5e-b6b5-aede9513b033",
   "metadata": {},
   "source": [
    "### method 2 - Scipy Library"
   ]
  },
  {
   "cell_type": "code",
   "execution_count": 24,
   "id": "68707870-2d82-4826-a5f9-84c7b86a838a",
   "metadata": {},
   "outputs": [
    {
     "name": "stdout",
     "output_type": "stream",
     "text": [
      "The mode of the data is:  ModeResult(mode=85, count=3)\n"
     ]
    }
   ],
   "source": [
    "from scipy import stats\n",
    "\n",
    "data = [85,90,90,95,85,85,96,80]\n",
    "\n",
    "mode = stats.mode(data)\n",
    "print(\"The mode of the data is: \", mode)"
   ]
  },
  {
   "cell_type": "code",
   "execution_count": null,
   "id": "43c54080-602e-4a84-bdcf-75c617961f86",
   "metadata": {},
   "outputs": [],
   "source": []
  },
  {
   "cell_type": "code",
   "execution_count": null,
   "id": "9d97f7bd-2f2b-4b12-b7c3-73e4321a9ee6",
   "metadata": {},
   "outputs": [],
   "source": []
  },
  {
   "cell_type": "code",
   "execution_count": null,
   "id": "b4f737e8-507d-40d5-94ab-c88acbb87fe1",
   "metadata": {},
   "outputs": [],
   "source": []
  }
 ],
 "metadata": {
  "kernelspec": {
   "display_name": "Python 3 (ipykernel)",
   "language": "python",
   "name": "python3"
  },
  "language_info": {
   "codemirror_mode": {
    "name": "ipython",
    "version": 3
   },
   "file_extension": ".py",
   "mimetype": "text/x-python",
   "name": "python",
   "nbconvert_exporter": "python",
   "pygments_lexer": "ipython3",
   "version": "3.12.7"
  }
 },
 "nbformat": 4,
 "nbformat_minor": 5
}
