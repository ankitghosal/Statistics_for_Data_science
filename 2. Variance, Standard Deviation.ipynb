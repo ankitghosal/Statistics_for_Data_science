{
 "cells": [
  {
   "cell_type": "markdown",
   "id": "ed32252d-00ec-47aa-b9ff-34a2446f3e33",
   "metadata": {},
   "source": [
    "# Variance"
   ]
  },
  {
   "cell_type": "markdown",
   "id": "00a63084-22e2-4492-bd99-d5fb16335c6d",
   "metadata": {},
   "source": [
    "### using numpy"
   ]
  },
  {
   "cell_type": "code",
   "execution_count": 1,
   "id": "8bfe7669-afa9-4866-90a4-6c9ccb3faf8a",
   "metadata": {},
   "outputs": [
    {
     "name": "stdout",
     "output_type": "stream",
     "text": [
      "The sample variance of the data is:  5.410714285714286\n",
      "The popolation variance of the data is:  4.734375\n"
     ]
    }
   ],
   "source": [
    "import numpy as np\n",
    "\n",
    "data = [2,4,4,5,6,7,8,9]\n",
    "\n",
    "sample_variance = np.var(data, ddof= 1)   # ddof  = delta degree of freedom [ddof = 0, for popolation variance; ddof = 1, for sample variance]\n",
    "pop_variance = np.var(data, ddof = 0)\n",
    "\n",
    "print(\"The sample variance of the data is: \", sample_variance)\n",
    "print(\"The popolation variance of the data is: \", pop_variance)"
   ]
  },
  {
   "cell_type": "markdown",
   "id": "e4a2155f-d7e0-4bd7-a6cf-d0178df92215",
   "metadata": {},
   "source": [
    "### using Pandas"
   ]
  },
  {
   "cell_type": "code",
   "execution_count": 4,
   "id": "6e039a70-6c01-4e21-a01f-6628b43a977e",
   "metadata": {},
   "outputs": [
    {
     "name": "stdout",
     "output_type": "stream",
     "text": [
      "0      2\n",
      "1      5\n",
      "2      6\n",
      "3     67\n",
      "4      8\n",
      "5      5\n",
      "6      4\n",
      "7      9\n",
      "8     14\n",
      "9      2\n",
      "10    10\n",
      "dtype: int64\n",
      "The sample Variance is:  345.6\n",
      "The population variance is:  314.1818181818182\n"
     ]
    }
   ],
   "source": [
    "import pandas as pd\n",
    "\n",
    "data = [2,5,6,67,8,5,4,9,14,2,10]\n",
    "series = pd.Series(data)\n",
    "print(series)\n",
    "\n",
    "sample_variance = series.var()\n",
    "print(\"The sample Variance is: \", sample_variance)\n",
    "pop_variance = series.var(ddof = 0)  # ddof mentioned to clarify populatin variance \n",
    "print(\"The population variance is: \", pop_variance)"
   ]
  },
  {
   "cell_type": "markdown",
   "id": "58bfec60-36b7-487a-a4de-2112605741a7",
   "metadata": {},
   "source": [
    "### using Scipy"
   ]
  },
  {
   "cell_type": "code",
   "execution_count": 5,
   "id": "d6775ab9-50bd-4b25-893e-f1a65b460581",
   "metadata": {},
   "outputs": [
    {
     "name": "stdout",
     "output_type": "stream",
     "text": [
      "The sample variance is:  7.122222222222224\n",
      "The population  variance is:  6.410000000000001\n"
     ]
    }
   ],
   "source": [
    "from scipy import stats\n",
    "\n",
    "data = [7,8,9,1,8,5,2,6,4,7]\n",
    "\n",
    "sample_variance = stats.tvar(data)\n",
    "print(\"The sample variance is: \", sample_variance)\n",
    "\n",
    "pop_variance = stats.tvar(data, ddof =0)\n",
    "print(\"The population  variance is: \", pop_variance)"
   ]
  },
  {
   "cell_type": "code",
   "execution_count": null,
   "id": "234537b5-8042-4dee-ac38-4e2b4b89cafe",
   "metadata": {},
   "outputs": [],
   "source": []
  },
  {
   "cell_type": "markdown",
   "id": "336aadb7-0c8b-436b-8c93-891408b1aca0",
   "metadata": {},
   "source": [
    "#  Standard Deviation"
   ]
  },
  {
   "cell_type": "markdown",
   "id": "c0bdc143-f77d-42b6-97bd-aae04ca68557",
   "metadata": {},
   "source": [
    "### using numpy"
   ]
  },
  {
   "cell_type": "code",
   "execution_count": 6,
   "id": "0e317d0f-6e62-468e-be00-bbfff54da610",
   "metadata": {},
   "outputs": [
    {
     "name": "stdout",
     "output_type": "stream",
     "text": [
      "The sample variance of the data is:  7.905694150420948\n",
      "The population variance  is:  7.0710678118654755\n"
     ]
    }
   ],
   "source": [
    "import numpy as np\n",
    "data = [60,65,70,75,80]\n",
    "\n",
    "sample_std = np.std(data, ddof = 1)\n",
    "print(\"The sample variance of the data is: \", sample_std)\n",
    "\n",
    "population_std = np.std (data, ddof = 0)\n",
    "print(\"The population variance  is: \", population_std)"
   ]
  },
  {
   "cell_type": "markdown",
   "id": "63897fd8-3b79-4144-a421-9214e7c07b37",
   "metadata": {},
   "source": [
    "# using Pandas"
   ]
  },
  {
   "cell_type": "code",
   "execution_count": 8,
   "id": "7c39cbc7-a1e9-49b5-bbea-e4243da6ee34",
   "metadata": {},
   "outputs": [
    {
     "name": "stdout",
     "output_type": "stream",
     "text": [
      "0      2\n",
      "1      5\n",
      "2      6\n",
      "3     67\n",
      "4      8\n",
      "5      5\n",
      "6      4\n",
      "7      9\n",
      "8     14\n",
      "9      2\n",
      "10    10\n",
      "dtype: int64\n",
      "The sample Standard Deviation is:  18.5903200617956\n",
      "The population Standard Deviation is:  17.725174701023914\n"
     ]
    }
   ],
   "source": [
    "import pandas as pd\n",
    "\n",
    "data = [2,5,6,67,8,5,4,9,14,2,10]\n",
    "series = pd.Series(data)\n",
    "print(series)\n",
    "\n",
    "sample_variance = series.std()\n",
    "print(\"The sample Standard Deviation is: \", sample_variance)\n",
    "pop_variance = series.std(ddof = 0)  # ddof mentioned to clarify populatin variance \n",
    "print(\"The population Standard Deviation is: \", pop_variance)"
   ]
  },
  {
   "cell_type": "markdown",
   "id": "ed4176a4-b62f-4b49-8920-6573e32479b6",
   "metadata": {},
   "source": [
    "### using Scipy"
   ]
  },
  {
   "cell_type": "code",
   "execution_count": 9,
   "id": "0bd0f4d9-d42a-4185-acb6-48e8d7e492b8",
   "metadata": {},
   "outputs": [
    {
     "name": "stdout",
     "output_type": "stream",
     "text": [
      "The sample standard deviation is:  18.5903200617956\n",
      "The population Standard Deviation is:  18.5903200617956\n"
     ]
    }
   ],
   "source": [
    "from scipy import stats\n",
    "import math\n",
    "\n",
    "sample_std = math.sqrt(stats.tvar(data)) # doing sqrt of variance data\n",
    "print(\"The sample standard deviation is: \",sample_std)\n",
    "\n",
    "pop_std = math.sqrt(stats.tvar(data))\n",
    "print(\"The population Standard Deviation is: \", pop_std)"
   ]
  },
  {
   "cell_type": "code",
   "execution_count": null,
   "id": "e0288a7e-a725-4bf5-8457-2e4ab10bc1fb",
   "metadata": {},
   "outputs": [],
   "source": []
  },
  {
   "cell_type": "code",
   "execution_count": null,
   "id": "9e9408a7-f1e6-48c8-85ba-c82e7fca4f66",
   "metadata": {},
   "outputs": [],
   "source": []
  },
  {
   "cell_type": "code",
   "execution_count": null,
   "id": "c67bb04e-bdfd-4e8e-99fa-2adae6fb2f86",
   "metadata": {},
   "outputs": [],
   "source": []
  },
  {
   "cell_type": "code",
   "execution_count": null,
   "id": "4ddfedbe-6838-416c-92ca-bec9024b9dc0",
   "metadata": {},
   "outputs": [],
   "source": []
  },
  {
   "cell_type": "code",
   "execution_count": null,
   "id": "b231c33c-438a-4ef0-be3e-06f1896d4723",
   "metadata": {},
   "outputs": [],
   "source": []
  }
 ],
 "metadata": {
  "kernelspec": {
   "display_name": "Python 3 (ipykernel)",
   "language": "python",
   "name": "python3"
  },
  "language_info": {
   "codemirror_mode": {
    "name": "ipython",
    "version": 3
   },
   "file_extension": ".py",
   "mimetype": "text/x-python",
   "name": "python",
   "nbconvert_exporter": "python",
   "pygments_lexer": "ipython3",
   "version": "3.12.7"
  }
 },
 "nbformat": 4,
 "nbformat_minor": 5
}
