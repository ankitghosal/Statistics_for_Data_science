{
 "cells": [
  {
   "cell_type": "markdown",
   "id": "7efc47fa-5dc7-4905-940d-42f03393b77a",
   "metadata": {},
   "source": [
    "# T test & P test"
   ]
  },
  {
   "cell_type": "markdown",
   "id": "ff848f77-4bd0-4409-ae85-65c8d32f4058",
   "metadata": {},
   "source": [
    "## **P-Value Test**\n",
    " inferential statistics mein ek concept hai jo hhypothesis testing ke process ka essential part hota hai. Yeh ek measure hai jo batata hai ki sample data ko null hypothesis ke satth kitna consistent hai. Specifically, p-value se yeh assess kiya jata hai ki null hypothesis ko reject karne ke liye aapke sample data ke basis pe kitne evidence hai.\n",
    " ## **P-Value:**\n",
    "P value ek probability hai jo aapke sample data ya usse extreme results aane ki probabililty ko represent karta hai, assuming ki null hypothesis sach hai. Yeh batata hai ki aapke observed results (ya aur extreme results) koobserve krna kitna unlikely hai agar null hypothesis sach hoti."
   ]
  },
  {
   "cell_type": "markdown",
   "id": "bee81663-44e8-49ca-b136-50c45725c614",
   "metadata": {},
   "source": [
    "## **T-Test**\n",
    "In statistics, a T-test is a hypothesis testt  used to determine if there is a significant difference between the means of two groups.\n",
    "It's especially useful when dealing with small sample sizes or when the population standard deviation is unknown."
   ]
  },
  {
   "cell_type": "code",
   "execution_count": 2,
   "id": "18062532-219b-4336-8e02-e8a74d609f81",
   "metadata": {},
   "outputs": [
    {
     "name": "stdout",
     "output_type": "stream",
     "text": [
      "T-Statistic:  -1.3754587147420403\n",
      "P-Value:  0.17427852232848323\n",
      "Fail to reject the null hypothesis (No significant difference between groups)\n"
     ]
    }
   ],
   "source": [
    "import numpy as np\n",
    "from scipy import stats\n",
    "\n",
    "# Step 1: Create two random sample datasets\n",
    "# Suppose these are test scores from two groups (e.g., group A and group B)\n",
    "group_A = np.random.normal(75, 10, 30)  # Group A with mean 75, std 10 and 30 samples\n",
    "group_B = np.random.normal(80, 12, 30)  # Group B with mean 80, std 12 and 30 samples\n",
    "\n",
    "# Step 2: Performs an independent T-test\n",
    "t_statistics, p_value = stats.ttest_ind(group_A, group_B)\n",
    "\n",
    "# Step 3: Display the P-Value and T-Statistic\n",
    "print('T-Statistic: ', t_statistics)\n",
    "print('P-Value: ', p_value)\n",
    "\n",
    "# Step 4: Interpretation based on P-value\n",
    "alpha = 0.05  # Significance level\n",
    "if p_value <= alpha:\n",
    "    print('Reject the null hypothesis (Significant difference between groups)')\n",
    "else:\n",
    "    print('Fail to reject the null hypothesis (No significant difference between groups)')"
   ]
  },
  {
   "cell_type": "code",
   "execution_count": null,
   "id": "fce96f77-ff8a-4d3b-b783-a5cf959903fc",
   "metadata": {},
   "outputs": [],
   "source": []
  },
  {
   "cell_type": "markdown",
   "id": "0bcd4c25-5071-45b7-9c00-381e1fdb5cef",
   "metadata": {},
   "source": [
    "## **Z-Test**\n",
    "inferential statistics ka ek method hota hai, jo tab use hota hai jab aapko test karna ho ki sample ka mean poulation mean ke barabar hai ya nahi. Z-test ko tab use kiya jata hai jab sampe size bada ho (usually n>30) ya jab population ka standard deviation (sigma) pata ho."
   ]
  },
  {
   "cell_type": "code",
   "execution_count": null,
   "id": "c4874f66-10b0-44c6-80b4-4268e29143b1",
   "metadata": {},
   "outputs": [],
   "source": []
  },
  {
   "cell_type": "markdown",
   "id": "92d695c5-56f0-45a0-a873-ae189ed90599",
   "metadata": {},
   "source": [
    "# **Q) - Practise**\n",
    "##### The average height of all the residents in a city is 168 cm, with a standard deviation = 3.9. A doctor believes the mean to be different. he measured the height of 36 individuals and found the average height to be 169.5 cm.\n",
    "1) State null and alternate hypothesis.\n",
    "2) At a 95% confidence level, is here enough evidance to reject the null hypothesis."
   ]
  },
  {
   "cell_type": "code",
   "execution_count": null,
   "id": "bc235829-2a13-4699-a505-043d07dfe734",
   "metadata": {},
   "outputs": [],
   "source": []
  },
  {
   "cell_type": "markdown",
   "id": "fd9961cd-d226-4afb-8c00-67e0d538cf81",
   "metadata": {},
   "source": [
    "## **Q)**\n",
    "#### Imagine a company claims that the average weight of  their product is 500 grams. We want to test if this claim is true by collecting a sample of 30 products. the sample mean is 505 grams, and the population standard deviatin is 10 grams. We will conduct a Z-test to see if the mean is significant or not."
   ]
  },
  {
   "cell_type": "code",
   "execution_count": 1,
   "id": "c0a89c29-eb15-4df1-93fa-2952f0191366",
   "metadata": {},
   "outputs": [
    {
     "name": "stdout",
     "output_type": "stream",
     "text": [
      "Z-value:  2.7386127875258306\n",
      "P-Value 0.0061698993205441255\n",
      "Reject the null hypothesis (significant  difference)\n"
     ]
    }
   ],
   "source": [
    "import numpy as np\n",
    "from scipy import stats\n",
    "\n",
    "# Step 1: Define the known parameters\n",
    "population_mean = 500  # Claimed populatin mean (mu)\n",
    "sample_mean = 505     # Sample men (X^)\n",
    "population_std = 10   # Populatin standard deviation (sigma)\n",
    "sample_size = 30     # Sample size (n)\n",
    "\n",
    "# Step 2: Calculate the Z-value\n",
    "z_value = (sample_mean - population_mean)/(population_std/np.sqrt(sample_size))\n",
    "print(\"Z-value: \", z_value)\n",
    "\n",
    "# Step 3: Calculate the p-value (two-tailed test)\n",
    "p_value = 2*(1 - stats.norm.cdf(abs(z_value)))\n",
    "print(\"P-Value\", p_value)\n",
    "\n",
    "# Step 4: Set significant level\n",
    "alpha = 0.05\n",
    "\n",
    "# Step 5: Compare p-value with significance level\n",
    "if p_value < alpha:\n",
    "    print(\"Reject the null hypothesis (significant  difference)\")\n",
    "else:\n",
    "    print(\"Fail to reject the null hypothesis (no significant  difference\")\n"
   ]
  },
  {
   "cell_type": "code",
   "execution_count": null,
   "id": "368dbdd2-e9d4-4387-8f3c-0e7dbe3095b1",
   "metadata": {},
   "outputs": [],
   "source": []
  },
  {
   "cell_type": "code",
   "execution_count": null,
   "id": "bfd0b34f-55b6-48df-a8ea-f61436c0d0d1",
   "metadata": {},
   "outputs": [],
   "source": []
  },
  {
   "cell_type": "code",
   "execution_count": null,
   "id": "d6dbccb4-e925-4a32-87bc-695be862efc7",
   "metadata": {},
   "outputs": [],
   "source": []
  },
  {
   "cell_type": "code",
   "execution_count": null,
   "id": "a8a8b7d7-93fb-416e-a0db-a10a941fbe34",
   "metadata": {},
   "outputs": [],
   "source": []
  },
  {
   "cell_type": "code",
   "execution_count": null,
   "id": "cb9c6a28-1875-47a1-9c00-01d10c73a9d6",
   "metadata": {},
   "outputs": [],
   "source": []
  },
  {
   "cell_type": "code",
   "execution_count": null,
   "id": "1d96d4be-e494-41cb-8410-02c104829cf9",
   "metadata": {},
   "outputs": [],
   "source": []
  }
 ],
 "metadata": {
  "kernelspec": {
   "display_name": "Python 3 (ipykernel)",
   "language": "python",
   "name": "python3"
  },
  "language_info": {
   "codemirror_mode": {
    "name": "ipython",
    "version": 3
   },
   "file_extension": ".py",
   "mimetype": "text/x-python",
   "name": "python",
   "nbconvert_exporter": "python",
   "pygments_lexer": "ipython3",
   "version": "3.12.7"
  }
 },
 "nbformat": 4,
 "nbformat_minor": 5
}
